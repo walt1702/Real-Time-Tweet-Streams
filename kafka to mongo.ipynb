{
 "cells": [
  {
   "cell_type": "code",
   "execution_count": 1,
   "metadata": {},
   "outputs": [],
   "source": [
    "from kafka import KafkaConsumer\n",
    "from pymongo import MongoClient\n",
    "import json\n",
    "import ast"
   ]
  },
  {
   "cell_type": "code",
   "execution_count": 2,
   "metadata": {},
   "outputs": [
    {
     "name": "stdout",
     "output_type": "stream",
     "text": [
      "Connected successfully!!!\n"
     ]
    }
   ],
   "source": [
    "try:\n",
    "    client = MongoClient('localhost',27017)\n",
    "    db = client.jihad\n",
    "    jihad=db.jihad\n",
    "    print(\"Connected successfully!!!\")\n",
    "except:  \n",
    "    print(\"Could not connect to MongoDB\")"
   ]
  },
  {
   "cell_type": "code",
   "execution_count": 3,
   "metadata": {},
   "outputs": [],
   "source": [
    "consumer = KafkaConsumer('jihad') #jihad topic name"
   ]
  },
  {
   "cell_type": "code",
   "execution_count": 4,
   "metadata": {},
   "outputs": [
    {
     "name": "stdout",
     "output_type": "stream",
     "text": [
      "Data inserted with record ids 5d1ef67b1a14843618943448\n",
      "Data inserted with record ids 5d1ef69a1a14843618943449\n",
      "Data inserted with record ids 5d1ef69c1a1484361894344a\n",
      "Data inserted with record ids 5d1ef6b01a1484361894344b\n",
      "Data inserted with record ids 5d1ef6b81a1484361894344c\n",
      "Data inserted with record ids 5d1ef6c51a1484361894344d\n",
      "Data inserted with record ids 5d1ef6e91a1484361894344e\n",
      "Data inserted with record ids 5d1ef6e91a1484361894344f\n",
      "Data inserted with record ids 5d1ef6f71a14843618943450\n",
      "Data inserted with record ids 5d1ef6fe1a14843618943451\n",
      "Data inserted with record ids 5d1ef7001a14843618943452\n",
      "Data inserted with record ids 5d1ef7241a14843618943453\n",
      "Data inserted with record ids 5d1ef7311a14843618943454\n",
      "Data inserted with record ids 5d1ef7391a14843618943455\n",
      "Data inserted with record ids 5d1ef73a1a14843618943456\n",
      "Data inserted with record ids 5d1ef73f1a14843618943457\n",
      "Data inserted with record ids 5d1ef75e1a14843618943458\n",
      "Data inserted with record ids 5d1ef75f1a14843618943459\n",
      "Data inserted with record ids 5d1ef7741a1484361894345a\n",
      "Data inserted with record ids 5d1ef7851a1484361894345b\n",
      "Data inserted with record ids 5d1ef78b1a1484361894345c\n",
      "Data inserted with record ids 5d1ef78c1a1484361894345d\n",
      "Data inserted with record ids 5d1ef78f1a1484361894345e\n",
      "Data inserted with record ids 5d1ef7971a1484361894345f\n",
      "Data inserted with record ids 5d1ef79d1a14843618943460\n",
      "Data inserted with record ids 5d1ef7a11a14843618943461\n",
      "Data inserted with record ids 5d1ef7ce1a14843618943462\n",
      "Data inserted with record ids 5d1ef7d01a14843618943463\n",
      "Data inserted with record ids 5d1ef7d21a14843618943464\n",
      "Data inserted with record ids 5d1ef7d31a14843618943465\n",
      "Data inserted with record ids 5d1ef7e41a14843618943466\n",
      "Data inserted with record ids 5d1ef7f91a14843618943467\n",
      "Data inserted with record ids 5d1ef8001a14843618943468\n",
      "Data inserted with record ids 5d1ef8041a14843618943469\n",
      "Data inserted with record ids 5d1ef80d1a1484361894346a\n",
      "Data inserted with record ids 5d1ef8151a1484361894346b\n",
      "Data inserted with record ids 5d1ef8161a1484361894346c\n",
      "Data inserted with record ids 5d1ef8171a1484361894346d\n",
      "Data inserted with record ids 5d1ef8211a1484361894346e\n",
      "Data inserted with record ids 5d1ef83c1a1484361894346f\n",
      "Data inserted with record ids 5d1ef8461a14843618943470\n",
      "Data inserted with record ids 5d1ef84f1a14843618943471\n",
      "Data inserted with record ids 5d1ef8571a14843618943472\n",
      "Data inserted with record ids 5d1ef8631a14843618943473\n",
      "Data inserted with record ids 5d1ef8741a14843618943474\n",
      "Data inserted with record ids 5d1ef87f1a14843618943475\n",
      "Data inserted with record ids 5d1ef8801a14843618943476\n",
      "Data inserted with record ids 5d1ef8821a14843618943477\n",
      "Data inserted with record ids 5d1ef8841a14843618943478\n",
      "Data inserted with record ids 5d1ef8841a14843618943479\n",
      "Data inserted with record ids 5d1ef8921a1484361894347a\n",
      "Data inserted with record ids 5d1ef89f1a1484361894347b\n",
      "Data inserted with record ids 5d1ef8a21a1484361894347c\n",
      "Data inserted with record ids 5d1ef8bb1a1484361894347d\n",
      "Data inserted with record ids 5d1ef8ca1a1484361894347e\n",
      "Data inserted with record ids 5d1ef8d11a1484361894347f\n",
      "Data inserted with record ids 5d1ef8e21a14843618943480\n",
      "Data inserted with record ids 5d1ef8e81a14843618943481\n",
      "Data inserted with record ids 5d1ef8f11a14843618943482\n",
      "Data inserted with record ids 5d1ef8fc1a14843618943483\n",
      "Data inserted with record ids 5d1ef9001a14843618943484\n",
      "Data inserted with record ids 5d1ef9031a14843618943485\n",
      "Data inserted with record ids 5d1ef90f1a14843618943486\n",
      "Data inserted with record ids 5d1ef91e1a14843618943487\n",
      "Data inserted with record ids 5d1ef9201a14843618943488\n",
      "Data inserted with record ids 5d1ef9281a14843618943489\n",
      "Data inserted with record ids 5d1ef92c1a1484361894348a\n",
      "Data inserted with record ids 5d1ef9371a1484361894348b\n",
      "Data inserted with record ids 5d1ef9391a1484361894348c\n",
      "Data inserted with record ids 5d1ef93c1a1484361894348d\n",
      "Data inserted with record ids 5d1ef93d1a1484361894348e\n",
      "Data inserted with record ids 5d1ef93e1a1484361894348f\n",
      "Data inserted with record ids 5d1ef9411a14843618943490\n",
      "Data inserted with record ids 5d1ef9461a14843618943491\n",
      "Data inserted with record ids 5d1ef9541a14843618943492\n",
      "Data inserted with record ids 5d1ef9541a14843618943493\n",
      "Data inserted with record ids 5d1ef95e1a14843618943494\n",
      "Data inserted with record ids 5d1ef9621a14843618943495\n",
      "Data inserted with record ids 5d1ef9771a14843618943496\n",
      "Data inserted with record ids 5d1ef97d1a14843618943497\n",
      "Data inserted with record ids 5d1ef9871a14843618943498\n",
      "Data inserted with record ids 5d1ef9931a14843618943499\n"
     ]
    },
    {
     "ename": "KeyboardInterrupt",
     "evalue": "",
     "output_type": "error",
     "traceback": [
      "\u001b[1;31m---------------------------------------------------------------------------\u001b[0m",
      "\u001b[1;31mKeyboardInterrupt\u001b[0m                         Traceback (most recent call last)",
      "\u001b[1;32m<ipython-input-4-2342dc0a07df>\u001b[0m in \u001b[0;36m<module>\u001b[1;34m()\u001b[0m\n\u001b[1;32m----> 1\u001b[1;33m \u001b[1;32mfor\u001b[0m \u001b[0mmsg\u001b[0m \u001b[1;32min\u001b[0m \u001b[0mconsumer\u001b[0m\u001b[1;33m:\u001b[0m\u001b[1;33m\u001b[0m\u001b[0m\n\u001b[0m\u001b[0;32m      2\u001b[0m     \u001b[0mjson_file\u001b[0m\u001b[1;33m=\u001b[0m\u001b[0mmsg\u001b[0m\u001b[1;33m.\u001b[0m\u001b[0mvalue\u001b[0m\u001b[1;33m\u001b[0m\u001b[0m\n\u001b[0;32m      3\u001b[0m \u001b[1;33m\u001b[0m\u001b[0m\n\u001b[0;32m      4\u001b[0m     \u001b[1;31m#print(json_file)\u001b[0m\u001b[1;33m\u001b[0m\u001b[1;33m\u001b[0m\u001b[0m\n\u001b[0;32m      5\u001b[0m     \u001b[1;31m#print(type(json_file))\u001b[0m\u001b[1;33m\u001b[0m\u001b[1;33m\u001b[0m\u001b[0m\n",
      "\u001b[1;32m~\\Anaconda3\\lib\\site-packages\\kafka\\consumer\\group.py\u001b[0m in \u001b[0;36m__next__\u001b[1;34m(self)\u001b[0m\n\u001b[0;32m   1118\u001b[0m         \u001b[0mself\u001b[0m\u001b[1;33m.\u001b[0m\u001b[0m_set_consumer_timeout\u001b[0m\u001b[1;33m(\u001b[0m\u001b[1;33m)\u001b[0m\u001b[1;33m\u001b[0m\u001b[0m\n\u001b[0;32m   1119\u001b[0m         \u001b[1;32mtry\u001b[0m\u001b[1;33m:\u001b[0m\u001b[1;33m\u001b[0m\u001b[0m\n\u001b[1;32m-> 1120\u001b[1;33m             \u001b[1;32mreturn\u001b[0m \u001b[0mnext\u001b[0m\u001b[1;33m(\u001b[0m\u001b[0mself\u001b[0m\u001b[1;33m.\u001b[0m\u001b[0m_iterator\u001b[0m\u001b[1;33m)\u001b[0m\u001b[1;33m\u001b[0m\u001b[0m\n\u001b[0m\u001b[0;32m   1121\u001b[0m         \u001b[1;32mexcept\u001b[0m \u001b[0mStopIteration\u001b[0m\u001b[1;33m:\u001b[0m\u001b[1;33m\u001b[0m\u001b[0m\n\u001b[0;32m   1122\u001b[0m             \u001b[0mself\u001b[0m\u001b[1;33m.\u001b[0m\u001b[0m_iterator\u001b[0m \u001b[1;33m=\u001b[0m \u001b[1;32mNone\u001b[0m\u001b[1;33m\u001b[0m\u001b[0m\n",
      "\u001b[1;32m~\\Anaconda3\\lib\\site-packages\\kafka\\consumer\\group.py\u001b[0m in \u001b[0;36m_message_generator\u001b[1;34m(self)\u001b[0m\n\u001b[0;32m   1073\u001b[0m             \u001b[1;32mif\u001b[0m \u001b[1;32mnot\u001b[0m \u001b[0mself\u001b[0m\u001b[1;33m.\u001b[0m\u001b[0m_fetcher\u001b[0m\u001b[1;33m.\u001b[0m\u001b[0min_flight_fetches\u001b[0m\u001b[1;33m(\u001b[0m\u001b[1;33m)\u001b[0m\u001b[1;33m:\u001b[0m\u001b[1;33m\u001b[0m\u001b[0m\n\u001b[0;32m   1074\u001b[0m                 \u001b[0mpoll_ms\u001b[0m \u001b[1;33m=\u001b[0m \u001b[0mmin\u001b[0m\u001b[1;33m(\u001b[0m\u001b[0mpoll_ms\u001b[0m\u001b[1;33m,\u001b[0m \u001b[0mself\u001b[0m\u001b[1;33m.\u001b[0m\u001b[0mconfig\u001b[0m\u001b[1;33m[\u001b[0m\u001b[1;34m'reconnect_backoff_ms'\u001b[0m\u001b[1;33m]\u001b[0m\u001b[1;33m)\u001b[0m\u001b[1;33m\u001b[0m\u001b[0m\n\u001b[1;32m-> 1075\u001b[1;33m             \u001b[0mself\u001b[0m\u001b[1;33m.\u001b[0m\u001b[0m_client\u001b[0m\u001b[1;33m.\u001b[0m\u001b[0mpoll\u001b[0m\u001b[1;33m(\u001b[0m\u001b[0mtimeout_ms\u001b[0m\u001b[1;33m=\u001b[0m\u001b[0mpoll_ms\u001b[0m\u001b[1;33m)\u001b[0m\u001b[1;33m\u001b[0m\u001b[0m\n\u001b[0m\u001b[0;32m   1076\u001b[0m \u001b[1;33m\u001b[0m\u001b[0m\n\u001b[0;32m   1077\u001b[0m             \u001b[1;31m# after the long poll, we should check whether the group needs to rebalance\u001b[0m\u001b[1;33m\u001b[0m\u001b[1;33m\u001b[0m\u001b[0m\n",
      "\u001b[1;32m~\\Anaconda3\\lib\\site-packages\\kafka\\client_async.py\u001b[0m in \u001b[0;36mpoll\u001b[1;34m(self, timeout_ms, future)\u001b[0m\n\u001b[0;32m    591\u001b[0m                     \u001b[0mtimeout\u001b[0m \u001b[1;33m=\u001b[0m \u001b[0mmax\u001b[0m\u001b[1;33m(\u001b[0m\u001b[1;36m0\u001b[0m\u001b[1;33m,\u001b[0m \u001b[0mtimeout\u001b[0m \u001b[1;33m/\u001b[0m \u001b[1;36m1000\u001b[0m\u001b[1;33m)\u001b[0m  \u001b[1;31m# avoid negative timeouts\u001b[0m\u001b[1;33m\u001b[0m\u001b[0m\n\u001b[0;32m    592\u001b[0m \u001b[1;33m\u001b[0m\u001b[0m\n\u001b[1;32m--> 593\u001b[1;33m                 \u001b[0mself\u001b[0m\u001b[1;33m.\u001b[0m\u001b[0m_poll\u001b[0m\u001b[1;33m(\u001b[0m\u001b[0mtimeout\u001b[0m\u001b[1;33m)\u001b[0m\u001b[1;33m\u001b[0m\u001b[0m\n\u001b[0m\u001b[0;32m    594\u001b[0m \u001b[1;33m\u001b[0m\u001b[0m\n\u001b[0;32m    595\u001b[0m                 \u001b[0mresponses\u001b[0m\u001b[1;33m.\u001b[0m\u001b[0mextend\u001b[0m\u001b[1;33m(\u001b[0m\u001b[0mself\u001b[0m\u001b[1;33m.\u001b[0m\u001b[0m_fire_pending_completed_requests\u001b[0m\u001b[1;33m(\u001b[0m\u001b[1;33m)\u001b[0m\u001b[1;33m)\u001b[0m\u001b[1;33m\u001b[0m\u001b[0m\n",
      "\u001b[1;32m~\\Anaconda3\\lib\\site-packages\\kafka\\client_async.py\u001b[0m in \u001b[0;36m_poll\u001b[1;34m(self, timeout)\u001b[0m\n\u001b[0;32m    612\u001b[0m \u001b[1;33m\u001b[0m\u001b[0m\n\u001b[0;32m    613\u001b[0m         \u001b[0mstart_select\u001b[0m \u001b[1;33m=\u001b[0m \u001b[0mtime\u001b[0m\u001b[1;33m.\u001b[0m\u001b[0mtime\u001b[0m\u001b[1;33m(\u001b[0m\u001b[1;33m)\u001b[0m\u001b[1;33m\u001b[0m\u001b[0m\n\u001b[1;32m--> 614\u001b[1;33m         \u001b[0mready\u001b[0m \u001b[1;33m=\u001b[0m \u001b[0mself\u001b[0m\u001b[1;33m.\u001b[0m\u001b[0m_selector\u001b[0m\u001b[1;33m.\u001b[0m\u001b[0mselect\u001b[0m\u001b[1;33m(\u001b[0m\u001b[0mtimeout\u001b[0m\u001b[1;33m)\u001b[0m\u001b[1;33m\u001b[0m\u001b[0m\n\u001b[0m\u001b[0;32m    615\u001b[0m         \u001b[0mend_select\u001b[0m \u001b[1;33m=\u001b[0m \u001b[0mtime\u001b[0m\u001b[1;33m.\u001b[0m\u001b[0mtime\u001b[0m\u001b[1;33m(\u001b[0m\u001b[1;33m)\u001b[0m\u001b[1;33m\u001b[0m\u001b[0m\n\u001b[0;32m    616\u001b[0m         \u001b[1;32mif\u001b[0m \u001b[0mself\u001b[0m\u001b[1;33m.\u001b[0m\u001b[0m_sensors\u001b[0m\u001b[1;33m:\u001b[0m\u001b[1;33m\u001b[0m\u001b[0m\n",
      "\u001b[1;32m~\\Anaconda3\\lib\\selectors.py\u001b[0m in \u001b[0;36mselect\u001b[1;34m(self, timeout)\u001b[0m\n\u001b[0;32m    321\u001b[0m         \u001b[0mready\u001b[0m \u001b[1;33m=\u001b[0m \u001b[1;33m[\u001b[0m\u001b[1;33m]\u001b[0m\u001b[1;33m\u001b[0m\u001b[0m\n\u001b[0;32m    322\u001b[0m         \u001b[1;32mtry\u001b[0m\u001b[1;33m:\u001b[0m\u001b[1;33m\u001b[0m\u001b[0m\n\u001b[1;32m--> 323\u001b[1;33m             \u001b[0mr\u001b[0m\u001b[1;33m,\u001b[0m \u001b[0mw\u001b[0m\u001b[1;33m,\u001b[0m \u001b[0m_\u001b[0m \u001b[1;33m=\u001b[0m \u001b[0mself\u001b[0m\u001b[1;33m.\u001b[0m\u001b[0m_select\u001b[0m\u001b[1;33m(\u001b[0m\u001b[0mself\u001b[0m\u001b[1;33m.\u001b[0m\u001b[0m_readers\u001b[0m\u001b[1;33m,\u001b[0m \u001b[0mself\u001b[0m\u001b[1;33m.\u001b[0m\u001b[0m_writers\u001b[0m\u001b[1;33m,\u001b[0m \u001b[1;33m[\u001b[0m\u001b[1;33m]\u001b[0m\u001b[1;33m,\u001b[0m \u001b[0mtimeout\u001b[0m\u001b[1;33m)\u001b[0m\u001b[1;33m\u001b[0m\u001b[0m\n\u001b[0m\u001b[0;32m    324\u001b[0m         \u001b[1;32mexcept\u001b[0m \u001b[0mInterruptedError\u001b[0m\u001b[1;33m:\u001b[0m\u001b[1;33m\u001b[0m\u001b[0m\n\u001b[0;32m    325\u001b[0m             \u001b[1;32mreturn\u001b[0m \u001b[0mready\u001b[0m\u001b[1;33m\u001b[0m\u001b[0m\n",
      "\u001b[1;32m~\\Anaconda3\\lib\\selectors.py\u001b[0m in \u001b[0;36m_select\u001b[1;34m(self, r, w, _, timeout)\u001b[0m\n\u001b[0;32m    312\u001b[0m     \u001b[1;32mif\u001b[0m \u001b[0msys\u001b[0m\u001b[1;33m.\u001b[0m\u001b[0mplatform\u001b[0m \u001b[1;33m==\u001b[0m \u001b[1;34m'win32'\u001b[0m\u001b[1;33m:\u001b[0m\u001b[1;33m\u001b[0m\u001b[0m\n\u001b[0;32m    313\u001b[0m         \u001b[1;32mdef\u001b[0m \u001b[0m_select\u001b[0m\u001b[1;33m(\u001b[0m\u001b[0mself\u001b[0m\u001b[1;33m,\u001b[0m \u001b[0mr\u001b[0m\u001b[1;33m,\u001b[0m \u001b[0mw\u001b[0m\u001b[1;33m,\u001b[0m \u001b[0m_\u001b[0m\u001b[1;33m,\u001b[0m \u001b[0mtimeout\u001b[0m\u001b[1;33m=\u001b[0m\u001b[1;32mNone\u001b[0m\u001b[1;33m)\u001b[0m\u001b[1;33m:\u001b[0m\u001b[1;33m\u001b[0m\u001b[0m\n\u001b[1;32m--> 314\u001b[1;33m             \u001b[0mr\u001b[0m\u001b[1;33m,\u001b[0m \u001b[0mw\u001b[0m\u001b[1;33m,\u001b[0m \u001b[0mx\u001b[0m \u001b[1;33m=\u001b[0m \u001b[0mselect\u001b[0m\u001b[1;33m.\u001b[0m\u001b[0mselect\u001b[0m\u001b[1;33m(\u001b[0m\u001b[0mr\u001b[0m\u001b[1;33m,\u001b[0m \u001b[0mw\u001b[0m\u001b[1;33m,\u001b[0m \u001b[0mw\u001b[0m\u001b[1;33m,\u001b[0m \u001b[0mtimeout\u001b[0m\u001b[1;33m)\u001b[0m\u001b[1;33m\u001b[0m\u001b[0m\n\u001b[0m\u001b[0;32m    315\u001b[0m             \u001b[1;32mreturn\u001b[0m \u001b[0mr\u001b[0m\u001b[1;33m,\u001b[0m \u001b[0mw\u001b[0m \u001b[1;33m+\u001b[0m \u001b[0mx\u001b[0m\u001b[1;33m,\u001b[0m \u001b[1;33m[\u001b[0m\u001b[1;33m]\u001b[0m\u001b[1;33m\u001b[0m\u001b[0m\n\u001b[0;32m    316\u001b[0m     \u001b[1;32melse\u001b[0m\u001b[1;33m:\u001b[0m\u001b[1;33m\u001b[0m\u001b[0m\n",
      "\u001b[1;31mKeyboardInterrupt\u001b[0m: "
     ]
    }
   ],
   "source": [
    "for msg in consumer:\n",
    "    json_file=msg.value\n",
    "    \n",
    "    #print(json_file)\n",
    "    #print(type(json_file))\n",
    "    #json1_str = msg.value.read()\n",
    "    #record = json.loads(json1_str)[0]\n",
    "    \n",
    "    record = json.loads(json_file)\n",
    "    \n",
    "    #print(type(record))\n",
    "    #print(record)\n",
    "    \n",
    "    rec = json.loads(record)\n",
    "    #print(type(rec))\n",
    "    \n",
    "    #print(rec)\n",
    "    #ast.literal_eval(record)\n",
    "    \n",
    "    '''\n",
    "    record = json.loads(msg.value)\n",
    "    print(record)\n",
    "    '''\n",
    "    #username = record['username']\n",
    "    #location = record['location']\n",
    "    \n",
    "    #tweettxt = record['tweet']\n",
    "    '''\n",
    "    try:\n",
    "        #twitter_rec = {'tweet' :tweet}\n",
    "        #twitter_rec = record\n",
    "        rec_id1 = jihad.insert_one(record).inserted_id\n",
    "        print(\"Data inserted with record ids\",rec_id1)\n",
    "    except:\n",
    "        print(\"Could not insertInMongo\")\n",
    "    '''\n",
    "    \n",
    "    #tweettxt = record['tweet']\n",
    "    #twitter_rec = {'tweet' :record['tweet']}\n",
    "    #twitter_rec = record[0]\n",
    "    rec_id1 = jihad.insert_one(rec).inserted_id\n",
    "    print(\"Data inserted with record ids\",rec_id1)"
   ]
  },
  {
   "cell_type": "code",
   "execution_count": null,
   "metadata": {},
   "outputs": [],
   "source": [
    "#Keyboard interrupt to stop the inflow of data"
   ]
  },
  {
   "cell_type": "code",
   "execution_count": null,
   "metadata": {},
   "outputs": [],
   "source": []
  }
 ],
 "metadata": {
  "kernelspec": {
   "display_name": "Python 3",
   "language": "python",
   "name": "python3"
  },
  "language_info": {
   "codemirror_mode": {
    "name": "ipython",
    "version": 3
   },
   "file_extension": ".py",
   "mimetype": "text/x-python",
   "name": "python",
   "nbconvert_exporter": "python",
   "pygments_lexer": "ipython3",
   "version": "3.6.5"
  }
 },
 "nbformat": 4,
 "nbformat_minor": 2
}
